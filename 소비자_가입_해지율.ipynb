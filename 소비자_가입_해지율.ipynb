{
  "nbformat": 4,
  "nbformat_minor": 0,
  "metadata": {
    "colab": {
      "provenance": []
    },
    "kernelspec": {
      "name": "python3",
      "display_name": "Python 3"
    },
    "language_info": {
      "name": "python"
    }
  },
  "cells": [
    {
      "cell_type": "code",
      "execution_count": null,
      "metadata": {
        "id": "DxsXAlYApGOA"
      },
      "outputs": [],
      "source": [
        "import csv\n",
        "\n",
        "# Define data\n",
        "data = [    ['CustomerID', 'Gender', 'Age', 'UsagePattern', 'MonthlyCharge', 'Churn'],\n",
        "    [1, 'Male', 34, 'Low', 45.00, 'No'],\n",
        "    [2, 'Female', 25, 'Medium', 65.50, 'Yes'],\n",
        "    [3, 'Male', 48, 'High', 95.00, 'No'],\n",
        "    [4, 'Male', 56, 'Low', 35.75, 'No'],\n",
        "    [5, 'Female', 32, 'Medium', 75.20, 'Yes'],\n",
        "    [6, 'Male', 41, 'High', 105.50, 'No'],\n",
        "    [7, 'Female', 27, 'Low', 40.00, 'No'],\n",
        "    [8, 'Male', 62, 'Medium', 80.50, 'Yes'],\n",
        "    [9, 'Male', 37, 'High', 110.00, 'No'],\n",
        "    [10, 'Female', 19, 'Low', 25.00, 'Yes'],\n",
        "    [11, \"Male\", 45, \"High\", 79.99, \"No\"],\n",
        "    [12, \"Female\", 32, \"Low\", 29.99, \"Yes\"],\n",
        "    [13, \"Male\", 22, \"Medium\", 59.99, \"No\"],\n",
        "    [14, \"Female\", 68, \"Low\", 19.99, \"Yes\"],\n",
        "    [15, \"Male\", 37, \"Medium\", 49.99, \"No\"],\n",
        "    [16, \"Female\", 55, \"High\", 89.99, \"No\"],\n",
        "    [17, \"Male\", 28, \"Low\", 24.99, \"Yes\"],\n",
        "    [18, \"Female\", 52, \"High\", 99.99, \"No\"],\n",
        "    [19, \"Male\", 42, \"Medium\", 69.99, \"No\"],\n",
        "    [20, \"Female\", 31, \"Low\", 29.99, \"Yes\"],\n",
        "    [21, \"Male\", 25, \"Medium\", 59.99, \"No\"],\n",
        "    [22, \"Female\", 40, \"High\", 79.99, \"No\"],\n",
        "    [23, \"Male\", 56, \"Low\", 19.99, \"Yes\"],\n",
        "    [24, \"Female\", 37, \"Medium\", 49.99, \"No\"],\n",
        "    [25, \"Male\", 63, \"High\", 89.99, \"No\"],\n",
        "    [26, \"Female\", 49, \"Low\", 24.99, \"Yes\"],\n",
        "    [27, \"Male\", 20, \"Medium\", 59.99, \"No\"],\n",
        "    [28, \"Female\", 44, \"High\", 99.99, \"No\"],\n",
        "    [29, \"Male\", 36, \"Low\", 24.99, \"Yes\"],\n",
        "    [30, \"Female\", 51, \"High\", 79.99, \"No\"],\n",
        "    [31, \"Male\", 27, \"Medium\", 69.99, \"No\"],\n",
        "    [32, \"Female\", 35, \"Low\", 29.99, \"Yes\"],\n",
        "    [33, \"Male\", 23, \"Medium\", 59.99, \"No\"],\n",
        "    [34, \"Female\", 58, \"High\", 89.99, \"No\"],\n",
        "    [35, \"Male\", 46, \"Low\", 24.99, \"Yes\"],\n",
        "    [36, \"Female\", 39, \"Medium\", 49.99, \"No\"],\n",
        "    [37, \"Male\", 67, \"High\", 99.99, \"No\"],\n",
        "    [38, \"Female\", 29, \"Low\", 19.99, \"Yes\"],\n",
        "    [39, \"Male\", 33, \"Medium\", 59.99, \"No\"],\n",
        "    [40, \"Female\", 47, \"High\", 79.99, \"No\"],\n",
        "    [41, \"Male\", 26, \"Low\", 24.99, \"Yes\"],\n",
        "    [42, \"Female\", 54, \"High\", 89.99, \"No\"],\n",
        "    [43, \"Male\", 38, \"Medium\", 69.99, \"No\"],\n",
        "    [44, \"Female\", 30, \"Low\", 29.99, \"Yes\"]\n",
        "]\n",
        "\n",
        "# Write data to CSV file\n",
        "with open('customer_churn_data.csv', 'w', newline='') as file:\n",
        "    writer = csv.writer(file)\n",
        "    for row in data:\n",
        "        writer.writerow(row)\n"
      ]
    },
    {
      "cell_type": "code",
      "source": [
        "import pandas as pd\n",
        "from sklearn.model_selection import train_test_split\n",
        "from sklearn.linear_model import LogisticRegression\n",
        "from sklearn.metrics import accuracy_score, precision_score, recall_score\n",
        "\n",
        "# Load data\n",
        "data = pd.read_csv('customer_churn_data.csv')\n",
        "#print(data.head())\n",
        "# Convert categorical variables to binary columns\n",
        "data = pd.get_dummies(data, columns=['Gender', 'UsagePattern'])\n",
        "#print(data.head())\n",
        "# Split data into training and testing sets\n",
        "X_train, X_test, y_train, y_test = train_test_split(data.drop('Churn', axis=1), data['Churn'], test_size=0.2, random_state=42)\n",
        "#print(y_test)\n",
        "# Train logistic regression model\n",
        "lr = LogisticRegression()\n",
        "lr.fit(X_train, y_train)\n",
        "\n",
        "# Make predictions on test data\n",
        "y_pred = lr.predict(X_test)\n",
        "\n",
        "# Evaluate model performance\n",
        "print(\"Accuracy: \", accuracy_score(y_test, y_pred))\n",
        "print(\"Precision: \", precision_score(y_test, y_pred, pos_label='Yes'))\n",
        "print(\"Recall: \", recall_score(y_test, y_pred, pos_label='Yes'))\n"
      ],
      "metadata": {
        "colab": {
          "base_uri": "https://localhost:8080/"
        },
        "id": "JcBcGf8xsxeq",
        "outputId": "3ab7fa8f-4011-4442-fe08-5b5dec2c6ffe"
      },
      "execution_count": null,
      "outputs": [
        {
          "output_type": "stream",
          "name": "stdout",
          "text": [
            "Accuracy:  0.8888888888888888\n",
            "Precision:  1.0\n",
            "Recall:  0.8\n"
          ]
        }
      ]
    },
    {
      "cell_type": "code",
      "source": [
        "import pandas as pd\n",
        "from sklearn.model_selection import train_test_split\n",
        "from sklearn.ensemble import RandomForestClassifier\n",
        "from sklearn.metrics import accuracy_score, precision_score, recall_score\n",
        "\n",
        "# Load the data from the CSV file\n",
        "data = pd.read_csv('customer_churn_data.csv')\n",
        "\n",
        "# Encode the categorical variables as binary columns\n",
        "data = pd.get_dummies(data, columns=['Gender', 'UsagePattern'])\n",
        "\n",
        "# Split the data into training and testing sets\n",
        "X_train, X_test, y_train, y_test = train_test_split(data.drop('Churn', axis=1), data['Churn'], test_size=0.2, random_state=42)\n",
        "\n",
        "# Train a Random Forest classifier on the training data\n",
        "clf = RandomForestClassifier(n_estimators=100, random_state=42)\n",
        "clf.fit(X_train, y_train)\n",
        "\n",
        "# Evaluate the model on the testing data\n",
        "y_pred = clf.predict(X_test)\n",
        "print('Accuracy:', accuracy_score(y_test, y_pred))\n",
        "print('Precision:', precision_score(y_test, y_pred,pos_label='Yes'))\n",
        "print('Recall:', recall_score(y_test, y_pred,pos_label='Yes'))"
      ],
      "metadata": {
        "colab": {
          "base_uri": "https://localhost:8080/"
        },
        "id": "qAx3r04C1TW8",
        "outputId": "17bfae21-d5b1-42ab-96cc-dc2c0af62850"
      },
      "execution_count": null,
      "outputs": [
        {
          "output_type": "stream",
          "name": "stdout",
          "text": [
            "Accuracy: 0.8888888888888888\n",
            "Precision: 1.0\n",
            "Recall: 0.8\n"
          ]
        }
      ]
    }
  ]
}